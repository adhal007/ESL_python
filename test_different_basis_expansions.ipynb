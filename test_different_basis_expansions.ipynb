{
 "cells": [
  {
   "cell_type": "code",
   "execution_count": 622,
   "metadata": {},
   "outputs": [],
   "source": [
    "from sklearn.base import BaseEstimator, TransformerMixin\n",
    "from sklearn.pipeline import Pipeline\n",
    "from sklearn.preprocessing import FunctionTransformer\n",
    "from typing import List\n",
    "import numpy as np\n",
    "from sklearn.preprocessing import StandardScaler\n",
    "import itertools as itertools\n",
    "import statsmodels.api as sm\n",
    "from scipy import stats\n",
    "from sklearn.metrics import log_loss\n",
    "from sklearn.linear_model import LogisticRegression\n",
    "import pandas as pd"
   ]
  },
  {
   "cell_type": "code",
   "execution_count": 623,
   "metadata": {},
   "outputs": [
    {
     "data": {
      "text/html": [
       "<div>\n",
       "<style scoped>\n",
       "    .dataframe tbody tr th:only-of-type {\n",
       "        vertical-align: middle;\n",
       "    }\n",
       "\n",
       "    .dataframe tbody tr th {\n",
       "        vertical-align: top;\n",
       "    }\n",
       "\n",
       "    .dataframe thead th {\n",
       "        text-align: right;\n",
       "    }\n",
       "</style>\n",
       "<table border=\"1\" class=\"dataframe\">\n",
       "  <thead>\n",
       "    <tr style=\"text-align: right;\">\n",
       "      <th></th>\n",
       "      <th>sbp</th>\n",
       "      <th>tobacco</th>\n",
       "      <th>ldl</th>\n",
       "      <th>obesity</th>\n",
       "      <th>alcohol</th>\n",
       "      <th>age</th>\n",
       "      <th>chd</th>\n",
       "    </tr>\n",
       "  </thead>\n",
       "  <tbody>\n",
       "    <tr>\n",
       "      <th>0</th>\n",
       "      <td>160</td>\n",
       "      <td>12.00</td>\n",
       "      <td>5.73</td>\n",
       "      <td>25.30</td>\n",
       "      <td>97.20</td>\n",
       "      <td>52</td>\n",
       "      <td>1</td>\n",
       "    </tr>\n",
       "    <tr>\n",
       "      <th>1</th>\n",
       "      <td>144</td>\n",
       "      <td>0.01</td>\n",
       "      <td>4.41</td>\n",
       "      <td>28.87</td>\n",
       "      <td>2.06</td>\n",
       "      <td>63</td>\n",
       "      <td>1</td>\n",
       "    </tr>\n",
       "    <tr>\n",
       "      <th>2</th>\n",
       "      <td>118</td>\n",
       "      <td>0.08</td>\n",
       "      <td>3.48</td>\n",
       "      <td>29.14</td>\n",
       "      <td>3.81</td>\n",
       "      <td>46</td>\n",
       "      <td>0</td>\n",
       "    </tr>\n",
       "    <tr>\n",
       "      <th>3</th>\n",
       "      <td>170</td>\n",
       "      <td>7.50</td>\n",
       "      <td>6.41</td>\n",
       "      <td>31.99</td>\n",
       "      <td>24.26</td>\n",
       "      <td>58</td>\n",
       "      <td>1</td>\n",
       "    </tr>\n",
       "    <tr>\n",
       "      <th>4</th>\n",
       "      <td>134</td>\n",
       "      <td>13.60</td>\n",
       "      <td>3.50</td>\n",
       "      <td>25.99</td>\n",
       "      <td>57.34</td>\n",
       "      <td>49</td>\n",
       "      <td>1</td>\n",
       "    </tr>\n",
       "  </tbody>\n",
       "</table>\n",
       "</div>"
      ],
      "text/plain": [
       "   sbp  tobacco   ldl  obesity  alcohol  age  chd\n",
       "0  160    12.00  5.73    25.30    97.20   52    1\n",
       "1  144     0.01  4.41    28.87     2.06   63    1\n",
       "2  118     0.08  3.48    29.14     3.81   46    0\n",
       "3  170     7.50  6.41    31.99    24.26   58    1\n",
       "4  134    13.60  3.50    25.99    57.34   49    1"
      ]
     },
     "execution_count": 623,
     "metadata": {},
     "output_type": "execute_result"
    }
   ],
   "source": [
    "# load training and test data set from a text file\n",
    "df = pd.read_csv(\"./data/South African Heart Disease.txt\")\n",
    "# encode famhist with dummy 0-1 variable\n",
    "df['famhist'] = pd.get_dummies(df['famhist'])['Present']\n",
    "df[\"famhist\"] = df[\"famhist\"].astype(int)\n",
    "target = 'chd'\n",
    "features = ['sbp', 'tobacco', 'ldl', 'obesity', 'alcohol', 'age']\n",
    "df[features + [target]].head()"
   ]
  },
  {
   "cell_type": "code",
   "execution_count": 624,
   "metadata": {},
   "outputs": [],
   "source": [
    "X, y = df[features].values, df[target].values"
   ]
  },
  {
   "cell_type": "markdown",
   "metadata": {},
   "source": [
    "## Import splines from library"
   ]
  },
  {
   "cell_type": "code",
   "execution_count": 711,
   "metadata": {},
   "outputs": [
    {
     "data": {
      "text/plain": [
       "<module 'src.spline_estimators' from '/Users/abhilashdhal/Desktop/ESL_python/ESL_python/src/spline_estimators.py'>"
      ]
     },
     "execution_count": 711,
     "metadata": {},
     "output_type": "execute_result"
    }
   ],
   "source": [
    "import src.spline_estimators as se\n",
    "from importlib import reload\n",
    "reload(se)"
   ]
  },
  {
   "cell_type": "markdown",
   "metadata": {},
   "source": [
    "## Initialize splines objects"
   ]
  },
  {
   "cell_type": "code",
   "execution_count": 712,
   "metadata": {},
   "outputs": [],
   "source": [
    "cubic_spl = se.SplineEstimators(target_dofs=4, method_name='ls')\n",
    "natural_cubic_spl = se.SplineEstimators(target_dofs=4, method_name='ns')"
   ]
  },
  {
   "cell_type": "markdown",
   "metadata": {},
   "source": [
    "## Get Knots"
   ]
  },
  {
   "cell_type": "code",
   "execution_count": 713,
   "metadata": {},
   "outputs": [],
   "source": [
    "knots_ns = natural_cubic_spl._compute_knots(X)\n",
    "knots_cs = cubic_spl._compute_knots(X)"
   ]
  },
  {
   "cell_type": "code",
   "execution_count": 714,
   "metadata": {},
   "outputs": [],
   "source": [
    "natural_cubic_spl.knots"
   ]
  },
  {
   "cell_type": "code",
   "execution_count": 715,
   "metadata": {},
   "outputs": [
    {
     "data": {
      "text/plain": [
       "[array([101., 124., 134., 148., 218.]),\n",
       " array([ 0.    ,  0.0525,  2.    ,  5.5   , 31.2   ]),\n",
       " array([ 0.98  ,  3.2825,  4.34  ,  5.79  , 15.33  ]),\n",
       " array([14.7   , 22.985 , 25.805 , 28.4975, 46.58  ]),\n",
       " array([  0.    ,   0.51  ,   7.51  ,  23.8925, 147.19  ]),\n",
       " array([15., 31., 45., 55., 64.])]"
      ]
     },
     "execution_count": 715,
     "metadata": {},
     "output_type": "execute_result"
    }
   ],
   "source": [
    "knots_ns"
   ]
  },
  {
   "cell_type": "code",
   "execution_count": 716,
   "metadata": {},
   "outputs": [
    {
     "data": {
      "text/plain": [
       "[array([124., 134., 148.]),\n",
       " array([0.0525, 2.    , 5.5   ]),\n",
       " array([3.2825, 4.34  , 5.79  ]),\n",
       " array([22.985 , 25.805 , 28.4975]),\n",
       " array([ 0.51  ,  7.51  , 23.8925]),\n",
       " array([31., 45., 55.])]"
      ]
     },
     "execution_count": 716,
     "metadata": {},
     "output_type": "execute_result"
    }
   ],
   "source": [
    "knots_cs"
   ]
  },
  {
   "cell_type": "markdown",
   "metadata": {},
   "source": [
    "## Show knots "
   ]
  },
  {
   "cell_type": "code",
   "execution_count": 717,
   "metadata": {},
   "outputs": [
    {
     "data": {
      "text/plain": [
       "[array([101., 124., 134., 148., 218.]),\n",
       " array([ 0.    ,  0.0525,  2.    ,  5.5   , 31.2   ]),\n",
       " array([ 0.98  ,  3.2825,  4.34  ,  5.79  , 15.33  ]),\n",
       " array([14.7   , 22.985 , 25.805 , 28.4975, 46.58  ]),\n",
       " array([  0.    ,   0.51  ,   7.51  ,  23.8925, 147.19  ]),\n",
       " array([15., 31., 45., 55., 64.])]"
      ]
     },
     "execution_count": 717,
     "metadata": {},
     "output_type": "execute_result"
    }
   ],
   "source": [
    "knots_ns"
   ]
  },
  {
   "cell_type": "code",
   "execution_count": 718,
   "metadata": {},
   "outputs": [
    {
     "data": {
      "text/plain": [
       "[array([124., 134., 148.]),\n",
       " array([0.0525, 2.    , 5.5   ]),\n",
       " array([3.2825, 4.34  , 5.79  ]),\n",
       " array([22.985 , 25.805 , 28.4975]),\n",
       " array([ 0.51  ,  7.51  , 23.8925]),\n",
       " array([31., 45., 55.])]"
      ]
     },
     "execution_count": 718,
     "metadata": {},
     "output_type": "execute_result"
    }
   ],
   "source": [
    "knots_cs"
   ]
  },
  {
   "cell_type": "markdown",
   "metadata": {},
   "source": [
    "## Transform X to new basis terms"
   ]
  },
  {
   "cell_type": "code",
   "execution_count": 719,
   "metadata": {},
   "outputs": [],
   "source": [
    "i = 0\n",
    "expanded_basis_ns = natural_cubic_spl._calc_expanded_basis_ns(X[:, i:i+1], knots_ns[i])"
   ]
  },
  {
   "cell_type": "code",
   "execution_count": 720,
   "metadata": {},
   "outputs": [
    {
     "data": {
      "text/plain": [
       "(462, 4)"
      ]
     },
     "execution_count": 720,
     "metadata": {},
     "output_type": "execute_result"
    }
   ],
   "source": [
    "expanded_basis_ns.shape"
   ]
  },
  {
   "cell_type": "code",
   "execution_count": 721,
   "metadata": {},
   "outputs": [],
   "source": [
    "i = 0\n",
    "expanded_basis_cs = cubic_spl._calc_expanded_basis_cs(X[:, i:i+1], knots_cs[i])"
   ]
  },
  {
   "cell_type": "code",
   "execution_count": 722,
   "metadata": {},
   "outputs": [
    {
     "data": {
      "text/plain": [
       "[array([124., 134., 148.]),\n",
       " array([0.0525, 2.    , 5.5   ]),\n",
       " array([3.2825, 4.34  , 5.79  ]),\n",
       " array([22.985 , 25.805 , 28.4975]),\n",
       " array([ 0.51  ,  7.51  , 23.8925]),\n",
       " array([31., 45., 55.])]"
      ]
     },
     "execution_count": 722,
     "metadata": {},
     "output_type": "execute_result"
    }
   ],
   "source": [
    "knots_cs"
   ]
  },
  {
   "cell_type": "code",
   "execution_count": 723,
   "metadata": {},
   "outputs": [
    {
     "data": {
      "text/plain": [
       "array([[1.600000e+02, 2.560000e+04, 4.096000e+06, 4.665600e+04,\n",
       "        1.757600e+04, 1.728000e+03],\n",
       "       [1.440000e+02, 2.073600e+04, 2.985984e+06, 8.000000e+03,\n",
       "        1.000000e+03, 0.000000e+00],\n",
       "       [1.180000e+02, 1.392400e+04, 1.643032e+06, 0.000000e+00,\n",
       "        0.000000e+00, 0.000000e+00],\n",
       "       ...,\n",
       "       [1.080000e+02, 1.166400e+04, 1.259712e+06, 0.000000e+00,\n",
       "        0.000000e+00, 0.000000e+00],\n",
       "       [1.180000e+02, 1.392400e+04, 1.643032e+06, 0.000000e+00,\n",
       "        0.000000e+00, 0.000000e+00],\n",
       "       [1.320000e+02, 1.742400e+04, 2.299968e+06, 5.120000e+02,\n",
       "        0.000000e+00, 0.000000e+00]])"
      ]
     },
     "execution_count": 723,
     "metadata": {},
     "output_type": "execute_result"
    }
   ],
   "source": [
    "expanded_basis_cs"
   ]
  },
  {
   "cell_type": "code",
   "execution_count": 724,
   "metadata": {},
   "outputs": [],
   "source": [
    "X_ns = natural_cubic_spl.fit_transform(X)\n",
    "X_cs = cubic_spl.fit_transform(X)"
   ]
  },
  {
   "cell_type": "code",
   "execution_count": 725,
   "metadata": {},
   "outputs": [
    {
     "data": {
      "text/plain": [
       "array([4, 4, 4, 4, 4, 4])"
      ]
     },
     "execution_count": 725,
     "metadata": {},
     "output_type": "execute_result"
    }
   ],
   "source": [
    "natural_cubic_spl.fit(X).dofs_"
   ]
  },
  {
   "cell_type": "code",
   "execution_count": 726,
   "metadata": {},
   "outputs": [
    {
     "data": {
      "text/plain": [
       "array([3, 3, 3, 3, 3, 3])"
      ]
     },
     "execution_count": 726,
     "metadata": {},
     "output_type": "execute_result"
    }
   ],
   "source": [
    "cubic_spl.fit(X).dofs_"
   ]
  },
  {
   "cell_type": "markdown",
   "metadata": {},
   "source": [
    "## Analyze new basis using LR "
   ]
  },
  {
   "cell_type": "code",
   "execution_count": 741,
   "metadata": {},
   "outputs": [],
   "source": [
    "ncs_features = se.SplineEstimators(target_dofs=4, method_name='ls')\n",
    "add_intercept = FunctionTransformer(\n",
    "    lambda X: sm.add_constant(X), validate=True)\n",
    "data_prep_pipeline = Pipeline([\n",
    "                                ('scale_features', StandardScaler()),\n",
    "                               ('expand_basis', ncs_features),\n",
    "                               ('scale_basis', StandardScaler()),\n",
    "\n",
    "                               ('add_intercept_column', add_intercept)\n",
    "\n",
    "                               ])\n",
    "\n",
    "# PAGE 146. At this point the model is like any other linear logistic model,\n",
    "#           and the algorithms described in Section 4.4.1 apply\n",
    "lr = LogisticRegression(\n",
    "    solver='lbfgs', max_iter=100000, C=10e10, fit_intercept=False)\n",
    "expanded_lr = Pipeline([('prepare', data_prep_pipeline),\n",
    "                        ('logistic', lr)])"
   ]
  },
  {
   "cell_type": "code",
   "execution_count": 742,
   "metadata": {},
   "outputs": [],
   "source": [
    "selected_ids = set(range(len(features)))\n",
    "X_selected = X[:, sorted(list(selected_ids))]\n",
    "# expand the basis of the selected features\n",
    "X_selected_exp = data_prep_pipeline.fit_transform(X_selected)"
   ]
  },
  {
   "cell_type": "code",
   "execution_count": 743,
   "metadata": {},
   "outputs": [
    {
     "data": {
      "text/plain": [
       "array([[1.600e+02, 1.200e+01, 5.730e+00, 2.530e+01, 9.720e+01, 5.200e+01],\n",
       "       [1.440e+02, 1.000e-02, 4.410e+00, 2.887e+01, 2.060e+00, 6.300e+01],\n",
       "       [1.180e+02, 8.000e-02, 3.480e+00, 2.914e+01, 3.810e+00, 4.600e+01],\n",
       "       ...,\n",
       "       [1.080e+02, 3.000e+00, 1.590e+00, 2.009e+01, 2.664e+01, 5.500e+01],\n",
       "       [1.180e+02, 5.400e+00, 1.161e+01, 2.735e+01, 2.397e+01, 4.000e+01],\n",
       "       [1.320e+02, 0.000e+00, 4.820e+00, 1.470e+01, 0.000e+00, 4.600e+01]])"
      ]
     },
     "execution_count": 743,
     "metadata": {},
     "output_type": "execute_result"
    }
   ],
   "source": [
    "X_selected"
   ]
  },
  {
   "cell_type": "code",
   "execution_count": 744,
   "metadata": {},
   "outputs": [
    {
     "name": "stdout",
     "output_type": "stream",
     "text": [
      "REMOVE: alcohol\n",
      "REMOVE: sbp\n",
      "REMOVE: obesity\n"
     ]
    }
   ],
   "source": [
    "# PAGE 146. We carried out a backward stepwise deletion process, dropping terms\n",
    "#           from this model while preserving the group structure of each term,\n",
    "#           rather than dropping one coefficient at a time. The AIC statistic\n",
    "#           (Section 7.5) was used to drop terms, and all the terms remaining\n",
    "#           in the final model would cause AIC to increase if deleted from the\n",
    "#           model (see Table 5.1).\n",
    "# calculates total deviance of a model on a data set\n",
    "def deviance(X, y, model):\n",
    "    return 2*log_loss(y, model.predict_proba(X), normalize=False)\n",
    "\n",
    "\n",
    "# calculates total deviance of a model trained on features subset\n",
    "def subset_deviance(model, selected_ids):\n",
    "    X_selected = X[:, sorted(list(selected_ids))]\n",
    "    model.fit(X_selected, y)\n",
    "    return deviance(X_selected, y, model)\n",
    "\n",
    "# calculates AIC of log-reg model trained on expanded features subset\n",
    "def subset_aic(selected_ids):\n",
    "    X_selected = X[:, sorted(list(selected_ids))]\n",
    "    # expand the basis of the selected features\n",
    "    X_selected_exp = data_prep_pipeline.fit_transform(X_selected)\n",
    "    # fit the log-reg model to the expanded data and calculate its AIC\n",
    "    lr = sm.Logit(\n",
    "        y, X_selected_exp[:, :-1]\n",
    "    ).fit_regularized(method='l1', maxiter=1000, disp=False)\n",
    "    return lr.aic\n",
    "\n",
    "# start with all features selected, store indices\n",
    "selected_ids = set(range(len(features)))\n",
    "current_aic = subset_aic(selected_ids)\n",
    "current_deviance = subset_deviance(lr, selected_ids)\n",
    "while True:\n",
    "    stat = [(subset_aic(selected_ids - set([idx])),\n",
    "             subset_deviance(expanded_lr, selected_ids - set([idx])),\n",
    "             idx) for idx in selected_ids]\n",
    "    min_aic, dev, feature_to_remove_idx = min(stat)\n",
    "    if min_aic > current_aic:\n",
    "        break\n",
    "    selected_ids -= set([feature_to_remove_idx])\n",
    "    current_aic, current_deviance = min_aic, dev\n",
    "    print(f'REMOVE: {features[feature_to_remove_idx]}')\n",
    "\n",
    "selected_ids = sorted(list(selected_ids))\n",
    "# convert list of stats to dictionary\n",
    "stat = {id: (aic, dev) for (aic, dev, id) in stat}"
   ]
  },
  {
   "cell_type": "code",
   "execution_count": 745,
   "metadata": {},
   "outputs": [],
   "source": [
    "X_cs_trans =data_prep_pipeline.fit_transform(X)"
   ]
  },
  {
   "cell_type": "code",
   "execution_count": 746,
   "metadata": {},
   "outputs": [
    {
     "data": {
      "text/plain": [
       "array([[ 1.        ,  1.05856354,  1.07056657, ...,  0.61397698,\n",
       "         0.2975692 , -0.5032205 ],\n",
       "       [ 1.        ,  0.27708929,  0.21169658, ...,  1.57701125,\n",
       "         2.00439392,  2.72577772],\n",
       "       [ 1.        , -0.99280637, -0.86189091, ...,  0.08868556,\n",
       "        -0.63342609, -0.5032205 ],\n",
       "       ...,\n",
       "       [ 1.        , -1.48122778, -0.86189091, ...,  0.87662269,\n",
       "         0.76306685, -0.5032205 ],\n",
       "       [ 1.        , -0.99280637, -0.86189091, ..., -0.43660586,\n",
       "        -0.78859198, -0.5032205 ],\n",
       "       [ 1.        , -0.3090164 , -0.43245591, ...,  0.08868556,\n",
       "        -0.63342609, -0.5032205 ]])"
      ]
     },
     "execution_count": 746,
     "metadata": {},
     "output_type": "execute_result"
    }
   ],
   "source": [
    "X_cs_trans"
   ]
  },
  {
   "cell_type": "markdown",
   "metadata": {},
   "source": []
  },
  {
   "cell_type": "code",
   "execution_count": 747,
   "metadata": {},
   "outputs": [],
   "source": [
    "# refit the model to the selected features\n",
    "X_selected = X[:, selected_ids]\n",
    "expanded_lr.fit(X_selected, y)\n",
    "# save min-max of the selected features to use in plotting\n",
    "X_min, X_max = np.min(X_selected, axis=0), np.max(X_selected, axis=0)"
   ]
  },
  {
   "cell_type": "code",
   "execution_count": 748,
   "metadata": {},
   "outputs": [
    {
     "name": "stdout",
     "output_type": "stream",
     "text": [
      "    Terms   Df   Deviance      AIC      LRT   P-value\n",
      "-----------------------------------------------------\n",
      "     none          488.69   514.82\n",
      "  tobacco   3      505.05   523.29   16.358     0.001\n",
      "      ldl   3      501.47   519.61   12.777     0.005\n",
      "      age   3      517.70   533.76   29.007     0.000\n"
     ]
    }
   ],
   "source": [
    "print(f'    Terms   Df   Deviance      AIC      LRT   P-value')\n",
    "print(f'-----------------------------------------------------')\n",
    "print(f'     none          {current_deviance:.2f}   {current_aic:.2f}')\n",
    "for i, feature_idx in enumerate(selected_ids):\n",
    "    feature_aic, feature_dev = stat[feature_idx]\n",
    "    lrt = feature_dev - current_deviance\n",
    "    p_value = 1 - stats.chi2.cdf(lrt, df=ncs_features.dofs_[i])\n",
    "    print(f'{features[feature_idx]:>9}{ncs_features.dofs_[i]:>4}'\n",
    "          f'{feature_dev:>12.2f}{feature_aic:9.2f}{lrt:>9.3f} {p_value:9.3f}')"
   ]
  },
  {
   "cell_type": "code",
   "execution_count": 749,
   "metadata": {},
   "outputs": [],
   "source": [
    "# estimate the covariance matrix\n",
    "H = data_prep_pipeline.transform(X_selected)\n",
    "predProbs = expanded_lr.predict_proba(X_selected)\n",
    "W = np.diagflat(np.product(predProbs, axis=1))\n",
    "cov = np.linalg.inv(H.T @ W @ H)\n",
    "\n"
   ]
  },
  {
   "cell_type": "code",
   "execution_count": 750,
   "metadata": {},
   "outputs": [
    {
     "data": {
      "text/plain": [
       "(462, 3)"
      ]
     },
     "execution_count": 750,
     "metadata": {},
     "output_type": "execute_result"
    }
   ],
   "source": [
    "X_selected.shape"
   ]
  },
  {
   "cell_type": "code",
   "execution_count": 751,
   "metadata": {},
   "outputs": [],
   "source": [
    "# linspace selected features and calculate their basis expansions\n",
    "x_vals = np.vstack([np.linspace(X_min[i], X_max[i], 100)\n",
    "                    for i in range(X_min.shape[0])]).T\n"
   ]
  },
  {
   "cell_type": "code",
   "execution_count": 752,
   "metadata": {},
   "outputs": [],
   "source": [
    "x_vals_exp = data_prep_pipeline.transform(x_vals)\n",
    "\n",
    "# drop rows and columns for intercepts\n",
    "x_vals_exp = x_vals_exp[:, 1:]\n",
    "cov = cov[1:, 1:]"
   ]
  },
  {
   "cell_type": "code",
   "execution_count": 753,
   "metadata": {},
   "outputs": [],
   "source": [
    "def plot_term_natural_spline_function(ax, feature_idx, name):\n",
    "    basis_start, basis_end = ncs_features.positions_[feature_idx]\n",
    "\n",
    "    # calculate feature expansion matrix, feature cov and feature err\n",
    "    feature_exp = x_vals_exp[:, basis_start:basis_end+1]\n",
    "    feature_lr_coef = lr.coef_[:, basis_start+1:basis_end+2].T\n",
    "    feature_cov = cov[basis_start:basis_end+1, basis_start:basis_end+1]\n",
    "    feature_err = 2*np.sqrt(np.diag(feature_exp @ feature_cov @ feature_exp.T))\n",
    "    feature_x_vals = x_vals[:, feature_idx]\n",
    "    feature_y_vals = np.squeeze(feature_exp @ feature_lr_coef)\n",
    "    # plot shaded region\n",
    "    ax.fill_between(feature_x_vals,\n",
    "                    feature_y_vals - feature_err,\n",
    "                    feature_y_vals + feature_err,\n",
    "                    color='#FFEC8B')\n",
    "    # plot function line\n",
    "\n",
    "    ax.plot(feature_x_vals, feature_y_vals, color='#00FF00', linewidth=0.8)\n",
    "    # plot bottom red lines representing samples\n",
    "    y_from, y_to = ax.get_ylim()\n",
    "    for i in range(X_selected.shape[0]):\n",
    "        x = X_selected[i, feature_idx]\n",
    "        ax.plot([x, x], [y_from, y_from+(y_to-y_from)*0.02],\n",
    "                color='red', linewidth=0.5)\n",
    "    ax.set_ylim(y_from, y_to)\n",
    "    # title the plot and set ticks\n",
    "    for l in ax.get_yticklabels() + ax.get_xticklabels():\n",
    "        l.set_fontsize(6)\n",
    "    ax.set_xlabel(f'{name}',  fontsize=8)\n",
    "    ax.set_ylabel(f'f({name})', fontsize=8)"
   ]
  },
  {
   "cell_type": "code",
   "execution_count": 754,
   "metadata": {},
   "outputs": [
    {
     "data": {
      "image/png": "[encoded data removed]",
      "text/plain": [
       "<Figure size 990x1035 with 6 Axes>"
      ]
     },
     "metadata": {},
     "output_type": "display_data"
    }
   ],
   "source": [
    "import matplotlib.pyplot as plt\n",
    "# PAGE 147. FIGURE 5.4. Fitted natural-spline functions for each of the terms\n",
    "#           in the final model selected by the stepwise procedure. Included are\n",
    "#           pointwise standard-error bands. The rug plot at the base of each\n",
    "#           figure indicates the location of each of the sample values for that\n",
    "#           variable (jittered to break ties).\n",
    "fig, axarr = plt.subplots(3, 2, figsize=(3.3*2, 2.3*3), dpi=150)\n",
    "plt.subplots_adjust(bottom=0.05)\n",
    "plot_term_natural_spline_function(axarr[0, 0], 0, 'sbp')\n",
    "plot_term_natural_spline_function(axarr[0, 1], 1, 'tobacco')\n",
    "plot_term_natural_spline_function(axarr[1, 0], 2, 'ldl')\n"
   ]
  },
  {
   "cell_type": "code",
   "execution_count": null,
   "metadata": {},
   "outputs": [],
   "source": []
  }
 ],
 "metadata": {
  "kernelspec": {
   "display_name": "sklearn-env",
   "language": "python",
   "name": "python3"
  },
  "language_info": {
   "codemirror_mode": {
    "name": "ipython",
    "version": 3
   },
   "file_extension": ".py",
   "mimetype": "text/x-python",
   "name": "python",
   "nbconvert_exporter": "python",
   "pygments_lexer": "ipython3",
   "version": "3.12.0"
  }
 },
 "nbformat": 4,
 "nbformat_minor": 2
}

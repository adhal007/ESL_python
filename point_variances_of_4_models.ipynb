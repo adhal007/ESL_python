{
 "cells": [
  {
   "cell_type": "code",
   "execution_count": 4,
   "metadata": {},
   "outputs": [],
   "source": [
    "import numpy as np\n",
    "from patsy import dmatrix\n",
    "import statsmodels.api as sm\n",
    "from numpy.linalg import inv\n",
    "# global cubic\n",
    "from numpy.linalg import inv\n",
    "from numpy.linalg import multi_dot\n",
    "from src.covariances import COV as cov_fn\n"
   ]
  },
  {
   "cell_type": "markdown",
   "metadata": {},
   "source": [
    "# generate data"
   ]
  },
  {
   "cell_type": "code",
   "execution_count": 2,
   "metadata": {},
   "outputs": [],
   "source": [
    "\n",
    "np.random.seed(42)\n",
    "x = np.random.uniform(0, 1, 50)\n",
    "x = np.sort(x)\n",
    "err = np.random.normal(0, 1, 50)\n",
    "y = np.add(x, err)"
   ]
  },
  {
   "cell_type": "markdown",
   "metadata": {},
   "source": [
    "## Calculate point variances"
   ]
  },
  {
   "cell_type": "code",
   "execution_count": 5,
   "metadata": {},
   "outputs": [],
   "source": [
    "cov_gl = cov_fn.GLCov(x, 1)\n",
    "pt_var_gl = cov_gl[0][0] + cov_gl[1][1] * x * x + 2 * cov_gl[0][1] * x\n",
    "\n",
    "\n",
    "x_square = x * x\n",
    "x_cubic = x * x * x\n",
    "cov_global_cubic = cov_fn.GlobalCubicCov(x, 1)\n",
    "x_m = np.array([np.ones(len(x)), x, x * x, x * x * x]).transpose()\n",
    "res = multi_dot([x_m, cov_global_cubic, x_m.transpose()])\n",
    "pt_var_cubic = res.diagonal()"
   ]
  },
  {
   "cell_type": "code",
   "execution_count": 6,
   "metadata": {},
   "outputs": [
    {
     "data": {
      "text/plain": [
       "array([0.06424158, 0.06141653, 0.05902431, 0.05678453, 0.05547465,\n",
       "       0.04965829, 0.04565327, 0.04296265, 0.04055625, 0.04055283,\n",
       "       0.03854755, 0.03705661, 0.03685319, 0.03666754, 0.03482901,\n",
       "       0.03334285, 0.02856467, 0.02585208, 0.02578302, 0.02490893,\n",
       "       0.02488322, 0.02440502, 0.021548  , 0.02124612, 0.02004779,\n",
       "       0.02000815, 0.02002517, 0.02059323, 0.02114113, 0.02134435,\n",
       "       0.02151974, 0.02248407, 0.02524782, 0.02570472, 0.0258897 ,\n",
       "       0.02638785, 0.02673293, 0.03147281, 0.03388803, 0.03680563,\n",
       "       0.04001263, 0.0481452 , 0.05213007, 0.05653427, 0.06318962,\n",
       "       0.07251276, 0.08186273, 0.08231341, 0.08605084, 0.08714267])"
      ]
     },
     "execution_count": 6,
     "metadata": {},
     "output_type": "execute_result"
    }
   ],
   "source": [
    "pt_var_gl "
   ]
  },
  {
   "cell_type": "code",
   "execution_count": 7,
   "metadata": {},
   "outputs": [],
   "source": [
    "# Fit a cubic spline with two knots at 0.33 and 0.66\n",
    "x_cubic = dmatrix('bs(x, knots=(0.33, 0.66))', {'x': x})\n",
    "fit_cubic = sm.GLM(y, x_cubic).fit()\n",
    "\n",
    "# Fit a natural spline with lower and upper bounds\n",
    "x_natural = dmatrix('cr(x, df=6, lower_bound=0.1, upper_bound=0.9)', {'x': x})\n",
    "fit_natural = sm.GLM(y, x_natural).fit()\n",
    "\n",
    "\n",
    "\n"
   ]
  },
  {
   "cell_type": "code",
   "execution_count": 11,
   "metadata": {},
   "outputs": [
    {
     "data": {
      "text/plain": [
       "DesignMatrix with shape (50, 7)\n",
       "  Columns:\n",
       "    ['Intercept',\n",
       "     'cr(x, df=6, lower_bound=0.1, upper_bound=0.9)[0]',\n",
       "     'cr(x, df=6, lower_bound=0.1, upper_bound=0.9)[1]',\n",
       "     'cr(x, df=6, lower_bound=0.1, upper_bound=0.9)[2]',\n",
       "     'cr(x, df=6, lower_bound=0.1, upper_bound=0.9)[3]',\n",
       "     'cr(x, df=6, lower_bound=0.1, upper_bound=0.9)[4]',\n",
       "     'cr(x, df=6, lower_bound=0.1, upper_bound=0.9)[5]']\n",
       "  Terms:\n",
       "    'Intercept' (column 0)\n",
       "    'cr(x, df=6, lower_bound=0.1, upper_bound=0.9)' (columns 1:7)\n",
       "  (to view full data, use np.asarray(this_obj))"
      ]
     },
     "execution_count": 11,
     "metadata": {},
     "output_type": "execute_result"
    }
   ],
   "source": [
    "x_natural"
   ]
  },
  {
   "cell_type": "code",
   "execution_count": null,
   "metadata": {},
   "outputs": [],
   "source": [
    "# Create spline lines for 50 evenly spaced values of age\n",
    "# line_cubic = fit_cubic.predict(dmatrix('bs(xp, knots=(0.33, 0.66))', {'xp': x}))\n",
    "# line_natural = fit_natural.predict(dmatrix('cr(xp, df=6)', {'xp': x}))\n",
    "\n",
    "# natural cubic spline\n",
    "H = np.asarray(x_natural)\n",
    "sigma = 1\n",
    "m_Sigma = sigma * sigma * (inv(np.matmul(H.transpose(), H)))\n",
    "m_cubic_natural = multi_dot([H, m_Sigma, H.transpose()])\n",
    "res_cubic_natural = m_cubic_natural.diagonal()\n",
    "\n",
    "# cubic spline\n",
    "H = np.asarray(x_cubic)\n",
    "sigma = 1\n",
    "m_Sigma = sigma * sigma * (inv(np.matmul(H.transpose(), H)))\n",
    "m_cubic = multi_dot([H, m_Sigma, H.transpose()])\n",
    "res_cubic = m_cubic.diagonal()"
   ]
  },
  {
   "cell_type": "code",
   "execution_count": 2,
   "metadata": {},
   "outputs": [],
   "source": [
    "# import plotly.graph_objects as go\n",
    "# # Create traces\n",
    "# fig = go.Figure()\n",
    "# fig.add_trace(go.Scatter(x=x, y=pt_var,\n",
    "#                         mode='lines+markers',\n",
    "#                         name='Global Linear'))\n",
    "# fig.add_trace(go.Scatter(x=x, y=pt_var_cubic,\n",
    "#                         mode='lines+markers',\n",
    "#                         name='Global Cubic Spline'))\n",
    "# fig.add_trace(go.Scatter(x=x, y=res_cubic,\n",
    "#                         mode='lines+markers', name='Cubic Spline - 2 knots'))\n",
    "# fig.add_trace(go.Scatter(x=x, y=res_cubic_natural,\n",
    "#                         mode='lines+markers', name='Natural Cubic Spline - 6 knots'))\n",
    "\n",
    "# fig.update_layout(\n",
    "#     xaxis_title=\"x\",\n",
    "#     yaxis_title=\"Pointwise Variance\",\n",
    "# )\n",
    "\n",
    "# fig.update_layout(legend=dict(\n",
    "#     yanchor=\"top\",\n",
    "#     y=0.99,\n",
    "#     xanchor=\"center\",\n",
    "#     x=0.5\n",
    "# ))\n",
    "# fig.show()"
   ]
  },
  {
   "cell_type": "code",
   "execution_count": null,
   "metadata": {},
   "outputs": [],
   "source": []
  }
 ],
 "metadata": {
  "kernelspec": {
   "display_name": "sklearn-env",
   "language": "python",
   "name": "python3"
  },
  "language_info": {
   "codemirror_mode": {
    "name": "ipython",
    "version": 3
   },
   "file_extension": ".py",
   "mimetype": "text/x-python",
   "name": "python",
   "nbconvert_exporter": "python",
   "pygments_lexer": "ipython3",
   "version": "3.12.0"
  }
 },
 "nbformat": 4,
 "nbformat_minor": 2
}
